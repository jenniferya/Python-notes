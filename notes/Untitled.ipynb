{
 "cells": [
  {
   "cell_type": "markdown",
   "metadata": {},
   "source": [
    "# Python for data science"
   ]
  },
  {
   "cell_type": "markdown",
   "metadata": {},
   "source": [
    "## Module 1"
   ]
  },
  {
   "cell_type": "markdown",
   "metadata": {},
   "source": [
    "### Type casting"
   ]
  },
  {
   "cell_type": "code",
   "execution_count": 5,
   "metadata": {},
   "outputs": [
    {
     "data": {
      "text/plain": [
       "2.0"
      ]
     },
     "execution_count": 5,
     "metadata": {},
     "output_type": "execute_result"
    }
   ],
   "source": [
    "float(2) # 2.0"
   ]
  },
  {
   "cell_type": "code",
   "execution_count": 6,
   "metadata": {},
   "outputs": [
    {
     "data": {
      "text/plain": [
       "1"
      ]
     },
     "execution_count": 6,
     "metadata": {},
     "output_type": "execute_result"
    }
   ],
   "source": [
    "int('1') # 1"
   ]
  },
  {
   "cell_type": "code",
   "execution_count": 7,
   "metadata": {},
   "outputs": [
    {
     "data": {
      "text/plain": [
       "True"
      ]
     },
     "execution_count": 7,
     "metadata": {},
     "output_type": "execute_result"
    }
   ],
   "source": [
    "bool(1) # Ture"
   ]
  },
  {
   "cell_type": "code",
   "execution_count": 4,
   "metadata": {},
   "outputs": [
    {
     "data": {
      "text/plain": [
       "False"
      ]
     },
     "execution_count": 4,
     "metadata": {},
     "output_type": "execute_result"
    }
   ],
   "source": [
    "bool(0) # False"
   ]
  },
  {
   "cell_type": "markdown",
   "metadata": {},
   "source": [
    "### Type command ```type()```"
   ]
  },
  {
   "cell_type": "code",
   "execution_count": 55,
   "metadata": {},
   "outputs": [
    {
     "data": {
      "text/plain": [
       "str"
      ]
     },
     "execution_count": 55,
     "metadata": {},
     "output_type": "execute_result"
    }
   ],
   "source": [
    "a = \"string\"\n",
    "type(a)"
   ]
  },
  {
   "cell_type": "markdown",
   "metadata": {},
   "source": [
    "### Expressions and variables\n",
    "\n",
    "// 整除\n",
    "\n",
    "/ 正常除"
   ]
  },
  {
   "cell_type": "code",
   "execution_count": 10,
   "metadata": {},
   "outputs": [
    {
     "data": {
      "text/plain": [
       "1.6"
      ]
     },
     "execution_count": 10,
     "metadata": {},
     "output_type": "execute_result"
    }
   ],
   "source": [
    "4/2.5"
   ]
  },
  {
   "cell_type": "code",
   "execution_count": 11,
   "metadata": {},
   "outputs": [
    {
     "data": {
      "text/plain": [
       "1.6"
      ]
     },
     "execution_count": 11,
     "metadata": {},
     "output_type": "execute_result"
    }
   ],
   "source": [
    "4/2.5"
   ]
  },
  {
   "cell_type": "markdown",
   "metadata": {},
   "source": [
    "### Variables\n",
    "\n",
    "String operations"
   ]
  },
  {
   "cell_type": "code",
   "execution_count": 15,
   "metadata": {},
   "outputs": [
    {
     "data": {
      "text/plain": [
       "'l'"
      ]
     },
     "execution_count": 15,
     "metadata": {},
     "output_type": "execute_result"
    }
   ],
   "source": [
    "Name = \"Michael Jackson\"\n",
    "Name[6] # output: l"
   ]
  },
  {
   "cell_type": "markdown",
   "metadata": {},
   "source": [
    "- String: Slicing  "
   ]
  },
  {
   "cell_type": "code",
   "execution_count": 20,
   "metadata": {},
   "outputs": [
    {
     "data": {
      "text/plain": [
       "'Jack'"
      ]
     },
     "execution_count": 20,
     "metadata": {},
     "output_type": "execute_result"
    }
   ],
   "source": [
    "Name[8:12] # Jack"
   ]
  },
  {
   "cell_type": "code",
   "execution_count": 21,
   "metadata": {},
   "outputs": [
    {
     "data": {
      "text/plain": [
       "'McalJcsn'"
      ]
     },
     "execution_count": 21,
     "metadata": {},
     "output_type": "execute_result"
    }
   ],
   "source": [
    "Name[::2] # \"McalJcsn\"  从头到尾，中间间隔两个"
   ]
  },
  {
   "cell_type": "code",
   "execution_count": 22,
   "metadata": {},
   "outputs": [
    {
     "data": {
      "text/plain": [
       "'Mca'"
      ]
     },
     "execution_count": 22,
     "metadata": {},
     "output_type": "execute_result"
    }
   ],
   "source": [
    "Name[0:5:2] # “Mca” 从头到第5个，中间间隔两个"
   ]
  },
  {
   "cell_type": "code",
   "execution_count": 19,
   "metadata": {},
   "outputs": [
    {
     "data": {
      "text/plain": [
       "7"
      ]
     },
     "execution_count": 19,
     "metadata": {},
     "output_type": "execute_result"
    }
   ],
   "source": [
    "len(\"Michael\") # 7"
   ]
  },
  {
   "cell_type": "markdown",
   "metadata": {},
   "source": [
    "### Strings escape sequence:\n",
    "\n",
    "- \\ are meant to proceed escape sequences\n",
    "- \\n\n",
    "- \\t\n",
    "- \\\\ to print a real backslash"
   ]
  },
  {
   "cell_type": "code",
   "execution_count": 31,
   "metadata": {},
   "outputs": [
    {
     "name": "stdout",
     "output_type": "stream",
     "text": [
      "THRILLER IS THE SIXTH STUDIO ALBUM\n"
     ]
    }
   ],
   "source": [
    "A = \"Thriller is the sixth studio album\"\n",
    "B = A.upper()\n",
    "print(B)"
   ]
  },
  {
   "cell_type": "code",
   "execution_count": 37,
   "metadata": {},
   "outputs": [
    {
     "name": "stdout",
     "output_type": "stream",
     "text": [
      "Thriller is the sixth studio album\n"
     ]
    }
   ],
   "source": [
    "B = \"THRILLER IS THE SIXTH STUDIO ALBUM\"\n",
    "B = A.replace(\"Michael\", \"Janet\")\n",
    "print(B)"
   ]
  },
  {
   "cell_type": "code",
   "execution_count": 38,
   "metadata": {},
   "outputs": [
    {
     "data": {
      "text/plain": [
       "-1"
      ]
     },
     "execution_count": 38,
     "metadata": {},
     "output_type": "execute_result"
    }
   ],
   "source": [
    "A.find('el') # 5\n",
    "             # *If the sub-string is NOT in the str, output is negative"
   ]
  },
  {
   "cell_type": "markdown",
   "metadata": {},
   "source": [
    "### Tuples\n",
    "- We can concatenate or combine tuples by adding them\n",
    "- tuples are immutable\n",
    "- find the length of tuples len(tuple_Name)\n",
    "- use slicing to obtain index 3,4,5 --> tupleName[3:6] 结尾要加1\n",
    "\n",
    "#### nesting Tuples: a tuple can contain other tuples"
   ]
  },
  {
   "cell_type": "code",
   "execution_count": 42,
   "metadata": {},
   "outputs": [
    {
     "name": "stdout",
     "output_type": "stream",
     "text": [
      "[3, 8, 10, 17, 24]\n"
     ]
    }
   ],
   "source": [
    "Ratings = (10, 8, 24, 3, 17)\n",
    "RatingsSorted = sorted(Ratings)\n",
    "print(RatingsSorted)"
   ]
  },
  {
   "cell_type": "code",
   "execution_count": 45,
   "metadata": {},
   "outputs": [
    {
     "data": {
      "text/plain": [
       "'rock'"
      ]
     },
     "execution_count": 45,
     "metadata": {},
     "output_type": "execute_result"
    }
   ],
   "source": [
    "NT = (1, 2, (\"POP\", \"rock\"), (3,4), (\"disco\", (1,2)))\n",
    "NT[2][1] # \"rock\""
   ]
  },
  {
   "cell_type": "markdown",
   "metadata": {},
   "source": [
    "### List\n",
    "- list are mutable, it can contain strings, floats, integers, other lists or tuples...\n",
    "- To clone: \n",
    "A = [\"hard rock\", 10, 1.2]\n",
    "B = A[:]\n",
    "- access the same element using positive and negative index\n",
    "- delete the element based on the numeric index: del(A[0])\n",
    "\n"
   ]
  },
  {
   "cell_type": "code",
   "execution_count": 47,
   "metadata": {},
   "outputs": [],
   "source": [
    "L = [\"MJ\", 10.1, 1982]"
   ]
  },
  {
   "cell_type": "code",
   "execution_count": 54,
   "metadata": {},
   "outputs": [
    {
     "name": "stdout",
     "output_type": "stream",
     "text": [
      "[10, 22, 'pop', 10, 22, 'pop', 10, 22, 'pop', 10, 22, 22, 'pop', 10]\n"
     ]
    }
   ],
   "source": [
    "L.extend([\"pop\", 10]) # 加一个list\n",
    "print(L)"
   ]
  },
  {
   "cell_type": "code",
   "execution_count": 53,
   "metadata": {},
   "outputs": [
    {
     "name": "stdout",
     "output_type": "stream",
     "text": [
      "[10, 22, 'pop', 10, 22, 'pop', 10, 22, 'pop', 10, 22, 22]\n"
     ]
    }
   ],
   "source": [
    "L.append(22) # 加一个str啥的\n",
    "print(L)"
   ]
  },
  {
   "cell_type": "code",
   "execution_count": 52,
   "metadata": {},
   "outputs": [
    {
     "name": "stdout",
     "output_type": "stream",
     "text": [
      "[10, 22, 'pop', 10, 22, 'pop', 10, 22, 'pop', 10, 22]\n"
     ]
    }
   ],
   "source": [
    "del(L[0]) # 删除\n",
    "print(L)"
   ]
  },
  {
   "cell_type": "code",
   "execution_count": 56,
   "metadata": {},
   "outputs": [
    {
     "data": {
      "text/plain": [
       "['hard', 'rock']"
      ]
     },
     "execution_count": 56,
     "metadata": {},
     "output_type": "execute_result"
    }
   ],
   "source": [
    "\"hard rock\".split() #分隔"
   ]
  },
  {
   "cell_type": "code",
   "execution_count": 62,
   "metadata": {},
   "outputs": [
    {
     "data": {
      "text/plain": [
       "['A', 'B', 'C', 'D']"
      ]
     },
     "execution_count": 62,
     "metadata": {},
     "output_type": "execute_result"
    }
   ],
   "source": [
    "A = 'A,B,C,D'.split(',')\n",
    "A"
   ]
  },
  {
   "cell_type": "code",
   "execution_count": 63,
   "metadata": {},
   "outputs": [
    {
     "name": "stdout",
     "output_type": "stream",
     "text": [
      "Help on list object:\n",
      "\n",
      "class list(object)\n",
      " |  list(iterable=(), /)\n",
      " |  \n",
      " |  Built-in mutable sequence.\n",
      " |  \n",
      " |  If no argument is given, the constructor creates a new empty list.\n",
      " |  The argument must be an iterable if specified.\n",
      " |  \n",
      " |  Methods defined here:\n",
      " |  \n",
      " |  __add__(self, value, /)\n",
      " |      Return self+value.\n",
      " |  \n",
      " |  __contains__(self, key, /)\n",
      " |      Return key in self.\n",
      " |  \n",
      " |  __delitem__(self, key, /)\n",
      " |      Delete self[key].\n",
      " |  \n",
      " |  __eq__(self, value, /)\n",
      " |      Return self==value.\n",
      " |  \n",
      " |  __ge__(self, value, /)\n",
      " |      Return self>=value.\n",
      " |  \n",
      " |  __getattribute__(self, name, /)\n",
      " |      Return getattr(self, name).\n",
      " |  \n",
      " |  __getitem__(...)\n",
      " |      x.__getitem__(y) <==> x[y]\n",
      " |  \n",
      " |  __gt__(self, value, /)\n",
      " |      Return self>value.\n",
      " |  \n",
      " |  __iadd__(self, value, /)\n",
      " |      Implement self+=value.\n",
      " |  \n",
      " |  __imul__(self, value, /)\n",
      " |      Implement self*=value.\n",
      " |  \n",
      " |  __init__(self, /, *args, **kwargs)\n",
      " |      Initialize self.  See help(type(self)) for accurate signature.\n",
      " |  \n",
      " |  __iter__(self, /)\n",
      " |      Implement iter(self).\n",
      " |  \n",
      " |  __le__(self, value, /)\n",
      " |      Return self<=value.\n",
      " |  \n",
      " |  __len__(self, /)\n",
      " |      Return len(self).\n",
      " |  \n",
      " |  __lt__(self, value, /)\n",
      " |      Return self<value.\n",
      " |  \n",
      " |  __mul__(self, value, /)\n",
      " |      Return self*value.\n",
      " |  \n",
      " |  __ne__(self, value, /)\n",
      " |      Return self!=value.\n",
      " |  \n",
      " |  __repr__(self, /)\n",
      " |      Return repr(self).\n",
      " |  \n",
      " |  __reversed__(self, /)\n",
      " |      Return a reverse iterator over the list.\n",
      " |  \n",
      " |  __rmul__(self, value, /)\n",
      " |      Return value*self.\n",
      " |  \n",
      " |  __setitem__(self, key, value, /)\n",
      " |      Set self[key] to value.\n",
      " |  \n",
      " |  __sizeof__(self, /)\n",
      " |      Return the size of the list in memory, in bytes.\n",
      " |  \n",
      " |  append(self, object, /)\n",
      " |      Append object to the end of the list.\n",
      " |  \n",
      " |  clear(self, /)\n",
      " |      Remove all items from list.\n",
      " |  \n",
      " |  copy(self, /)\n",
      " |      Return a shallow copy of the list.\n",
      " |  \n",
      " |  count(self, value, /)\n",
      " |      Return number of occurrences of value.\n",
      " |  \n",
      " |  extend(self, iterable, /)\n",
      " |      Extend list by appending elements from the iterable.\n",
      " |  \n",
      " |  index(self, value, start=0, stop=9223372036854775807, /)\n",
      " |      Return first index of value.\n",
      " |      \n",
      " |      Raises ValueError if the value is not present.\n",
      " |  \n",
      " |  insert(self, index, object, /)\n",
      " |      Insert object before index.\n",
      " |  \n",
      " |  pop(self, index=-1, /)\n",
      " |      Remove and return item at index (default last).\n",
      " |      \n",
      " |      Raises IndexError if list is empty or index is out of range.\n",
      " |  \n",
      " |  remove(self, value, /)\n",
      " |      Remove first occurrence of value.\n",
      " |      \n",
      " |      Raises ValueError if the value is not present.\n",
      " |  \n",
      " |  reverse(self, /)\n",
      " |      Reverse *IN PLACE*.\n",
      " |  \n",
      " |  sort(self, /, *, key=None, reverse=False)\n",
      " |      Stable sort *IN PLACE*.\n",
      " |  \n",
      " |  ----------------------------------------------------------------------\n",
      " |  Static methods defined here:\n",
      " |  \n",
      " |  __new__(*args, **kwargs) from builtins.type\n",
      " |      Create and return a new object.  See help(type) for accurate signature.\n",
      " |  \n",
      " |  ----------------------------------------------------------------------\n",
      " |  Data and other attributes defined here:\n",
      " |  \n",
      " |  __hash__ = None\n",
      "\n"
     ]
    }
   ],
   "source": [
    "help(A) #to run ctrl + return"
   ]
  },
  {
   "cell_type": "markdown",
   "metadata": {},
   "source": [
    "# Sets\n",
    "- format {a1, a2, a3...}\n",
    "- unordered, do not record element position\n",
    "- do not allow duplicate element\n",
    "- change from a list to a set \n",
    "- set operations \n",
    "add/remove elements in a set \n",
    "A = {\"Thriller\", \"ABC\"}\n",
    "A.add(\"NYU\")\n",
    "A.remove(\"ABC\")\n",
    "\n",
    "check if one element is in a set\n",
    "\"X\" in set_name\n",
    "\n",
    "check if one set is a subset of another set\n",
    "set2.issubset(set1)\n",
    "\n",
    "find the difference "
   ]
  },
  {
   "cell_type": "code",
   "execution_count": null,
   "metadata": {},
   "outputs": [],
   "source": [
    "album_list = [\"MJ\", \"Thriller\", \"Thriller\"]\n",
    "album_set = set(album_list)\n",
    "album_set"
   ]
  },
  {
   "cell_type": "code",
   "execution_count": 8,
   "metadata": {},
   "outputs": [
    {
     "data": {
      "text/plain": [
       "{'MJ', 'Thriller'}"
      ]
     },
     "execution_count": 8,
     "metadata": {},
     "output_type": "execute_result"
    }
   ],
   "source": [
    "album_set = {\"MJ\", \"Thriller\", \"Thriller\"}\n",
    "\"MJ\" in album_set"
   ]
  },
  {
   "cell_type": "code",
   "execution_count": 17,
   "metadata": {},
   "outputs": [
    {
     "data": {
      "text/plain": [
       "{'Thriller'}"
      ]
     },
     "execution_count": 17,
     "metadata": {},
     "output_type": "execute_result"
    }
   ],
   "source": [
    "album_set_1 = {\"MJ\", \"Thriller\", \"Thriller\"}\n",
    "album_set_2 = {\"AC/DC\", \"Thril\", \"Thriller\"}\n",
    "album_set_3 = album_set_1 & album_set_2 \n",
    "album_set_3"
   ]
  },
  {
   "cell_type": "markdown",
   "metadata": {},
   "source": [
    "###Dictionary\n",
    "- denoted with curlt brackets {\"The Bodyguard\":\"1992\", \"Saturday Night Fever\":\"1977\"}\n",
    "- key: a index by label\n",
    "- values can be immutable, mutable and duplicate\n",
    "- each key and value pair is separated by a comma\n",
    "- find a value/key in the dictionary DICT['X']\n",
    "- delete a key & value pair --> del(DICT['Thriller'])\n",
    "- to verify if a value is in the dictionary: 'X' in DICT\n",
    "- To see all the keys in a dictionary:\n",
    "DICT.keys() \n",
    "DICT.values()\n",
    "- for each key, there can only be 1 single value BUT multiple keys can hold the same value\n",
    "- keys can be strings, num, tuples; values can be any data type\n"
   ]
  },
  {
   "cell_type": "code",
   "execution_count": 19,
   "metadata": {},
   "outputs": [
    {
     "data": {
      "text/plain": [
       "'65'"
      ]
     },
     "execution_count": 19,
     "metadata": {},
     "output_type": "execute_result"
    }
   ],
   "source": [
    "DICT = {\"Thriller\":\"65\", \"Romance\":\"50\"}\n",
    "DICT[\"Thriller\"]"
   ]
  },
  {
   "cell_type": "markdown",
   "metadata": {},
   "source": [
    "## Module 3\n",
    "### Conditions and Branching\n",
    "- Comparison Operators: a==6 (meaning if a is equals to 6)\n",
    "- Branching: run different statement for a different input\n",
    "IF statement\n",
    "elif statement: \n",
    "if (age > 18):\n",
    "    print(\"X\")\n",
    "elseif(age == 18):\n",
    "    print (\"Y\")\n",
    "else:\n",
    "    print(\"Z\")\n",
    "    \n",
    "- Logic Operators\n",
    "not(boolean)\n",
    "OR: produce false ONLY when all the boolean values are false\n",
    "AND: produce true ONLY when all the boolean values are true\n",
    "- ASCI CODE\n",
    "When there are multiple letters, the 1st letter takes precedence in ordering \n",
    "the comparison between the letters is case-sensitive\n",
    "\n",
    "### Loop\n",
    "- range(): output is a sequence that starts at the 1st input;\n",
    "e.g range(3) = [0,1,2]\n",
    "then the sequence iterates up to, but not including the 2nd number\n",
    "\n",
    "- for loops\n",
    "e.g 1\n",
    "A = [1,2,3,4,5]\n",
    "for element in A:\n",
    "    print(element)\n",
    "    \n",
    "e.g 2\n",
    "dates = [1982, 1980, 1973]\n",
    "N = len(dates)\n",
    "for i in Range(N):\n",
    "    print(dates[i])\n",
    "    \n",
    "e.g 3\n",
    "for i in range (-5, 6):\n",
    "    print(i)\n",
    "    i = i + 1\n",
    "\n",
    "- while loops\n",
    "e.g\n",
    "squares = ['orange', 'orange', 'purple', 'blue']\n",
    "Newsquares = []\n",
    "i = 0\n",
    "while(squares[i] == 'orange'):\n",
    "    Newsquares.append(squares[i])\n",
    "    i = i + 1\n"
   ]
  },
  {
   "cell_type": "markdown",
   "metadata": {},
   "source": [
    "### Functions\n",
    "\n",
    "- len(): takes an input of an input of type sequence, such a a string/list or type collection, such as a dict or set --> length of the sequence\n",
    "- sum()\n",
    "- sorted(): return a new sorted list\n",
    "- listName.sort(): change the list to a sorted one\n",
    "- To build ur own function\n",
    "Documentation String \n",
    "\"\"\"\n",
    "add 1 to a \n",
    "\"\"\"\n",
    "e.g.\n",
    "def add1(a):\n",
    "    b = a+1\n",
    "    return b\n",
    "- a function can have multiple parameters\n",
    "e.g def Mult(a,b)\n",
    "        c = a*b\n",
    "        returrn c\n",
    "        \n",
    "Mult(2,\"Michael Jackson\") --> 2*MJ = \"M...J...M...J\"\n",
    "- iF NO return statement\n",
    "def MJ():\n",
    "    print(\"MJ\")\n",
    "    \n",
    "- if performs no task, automatically return a none using pass\n",
    "def NoWork():\n",
    "    pass\n",
    "\n",
    "- Variadic parameters: allows to input a variable number of elements\n",
    "def ArtistNames(*names):\n",
    "    for name in names:\n",
    "    print(name)\n",
    "\n",
    "- Scope\n",
    "variables that are defined outside of any function are said to be within the global scope"
   ]
  },
  {
   "cell_type": "code",
   "execution_count": 29,
   "metadata": {},
   "outputs": [
    {
     "name": "stdout",
     "output_type": "stream",
     "text": [
      "Help on function add1 in module __main__:\n",
      "\n",
      "add1(a)\n",
      "    add 1 to a\n",
      "\n"
     ]
    }
   ],
   "source": [
    "def add1(a):\n",
    "    \"\"\"\n",
    "    add 1 to a\n",
    "    \"\"\"\n",
    "    b = a+1\n",
    "    return b\n",
    "\n",
    "c = add1(10)\n",
    "c\n",
    "help(add1)"
   ]
  },
  {
   "cell_type": "markdown",
   "metadata": {},
   "source": [
    "### Objects and Classes\n",
    "- each data type is an object\n",
    "- each object has a TYPE, an internal data representation\n",
    "and a set of procedures for interacting with objects (methods)\n",
    "- an object is an instance of a particular type\n",
    "- Methods: functions that every instance of that class/type provides\n",
    "e.g. name.reverse() # sorted in a reversed order\n",
    "- define ur own class: a class has data attributes & methods\n",
    "e.g pseudo code\n",
    "Class Circle\n",
    "Data attributes: radius, color\n",
    "\n",
    "class Circle (object):  #class definition, name of class, class parent\n",
    "\n",
    "def _init_(self,radius,color): #_init_is a special method/constructor to initialize data attributes parameters\n",
    "self.radius = radius;\n",
    "self.color = color; #data attributes used to initiaized each instance of the class\n",
    "\n",
    "def add_radius(self, r):\n",
    "self.radius = self.radius + r #method used to add r to radius\n",
    "\n",
    "RedCircle.drawCircle()\n",
    "\n",
    "#to create an object of class circle\n",
    "RedCircle = Circle(10,\"red\")\n",
    "#we can change the data attributes directly by RedCircle.color = \"blue\"\n",
    "\n",
    "- dir(Nameofobject): obtaining the list of data attributes and methods associated\n"
   ]
  },
  {
   "cell_type": "markdown",
   "metadata": {},
   "source": [
    "## Module 4 - Working with Data \n",
    "### Reading files with open\n",
    "- open a file\n",
    "e.g\n",
    "File1 = open(\"/resources/data/Example2.txt\",\"w\") #open(File path, mode(r:reading, w:writing, a:appending))\n",
    "\n",
    "File1.name\n",
    "File1.mode\n",
    "File1.close()  --> use the with statement to open a file so that it automatically closes the file\n",
    "e.g \n",
    "with open(\"Example1.txt\",\"r\") as File1:\n",
    "    file_stuff=File1.read()\n",
    "    print(file_stuff)\n",
    "print(File1.closed)\n",
    "print(file_stuff)\n",
    "\n",
    "- read lines\n",
    "with open (\"Example1.txt\",\"r\")as File1:\n",
    "    file_stuff = File1.readline() #1st time it is called, it will save the 1st line in the variable file_stuff \n",
    "#if we use File1.readline(4)--> print out first 4 char in the file\n",
    "    print(file_stuff)\n",
    "- use a loop to print out each line in the file\n",
    "e.g\n",
    "with open (\"Example1.txt\",\"r\") as File1:\n",
    "    for line in File1:\n",
    "        print(line)\n",
    "\n",
    "- Writing files with open\n",
    "e.g\n",
    "Lines = [\"This is line A\\n\",\"This is line B\\n\", \"This is line C\\n\"]\n",
    "with open(\"Example2.txt\",\"w\") as File1: \n",
    "    for line in Lines:\n",
    "    File1.write(line)\n",
    "#if set the mode to \"a\" as appendix, it will not create a new file but append to existing file\n",
    "\n"
   ]
  },
  {
   "cell_type": "code",
   "execution_count": 28,
   "metadata": {},
   "outputs": [
    {
     "ename": "FileNotFoundError",
     "evalue": "[Errno 2] No such file or directory: 'Example1.txt'",
     "output_type": "error",
     "traceback": [
      "\u001b[0;31m---------------------------------------------------------------------------\u001b[0m",
      "\u001b[0;31mFileNotFoundError\u001b[0m                         Traceback (most recent call last)",
      "\u001b[0;32m<ipython-input-28-c88fecdf3acf>\u001b[0m in \u001b[0;36m<module>\u001b[0;34m\u001b[0m\n\u001b[1;32m      1\u001b[0m \u001b[0;31m#use the line read from a file to write another file\u001b[0m\u001b[0;34m\u001b[0m\u001b[0;34m\u001b[0m\u001b[0;34m\u001b[0m\u001b[0m\n\u001b[0;32m----> 2\u001b[0;31m \u001b[0;32mwith\u001b[0m \u001b[0mopen\u001b[0m \u001b[0;34m(\u001b[0m\u001b[0;34m\"Example1.txt\"\u001b[0m\u001b[0;34m,\u001b[0m\u001b[0;34m\"r\"\u001b[0m\u001b[0;34m)\u001b[0m\u001b[0;32mas\u001b[0m \u001b[0mreadfile\u001b[0m\u001b[0;34m:\u001b[0m\u001b[0;34m\u001b[0m\u001b[0;34m\u001b[0m\u001b[0m\n\u001b[0m\u001b[1;32m      3\u001b[0m     \u001b[0;32mwith\u001b[0m \u001b[0mopen\u001b[0m \u001b[0;34m(\u001b[0m\u001b[0;34m\"Example2.txt\"\u001b[0m\u001b[0;34m,\u001b[0m\u001b[0;34m\"w\"\u001b[0m\u001b[0;34m)\u001b[0m \u001b[0;32mas\u001b[0m \u001b[0mwritefile\u001b[0m\u001b[0;34m:\u001b[0m\u001b[0;34m\u001b[0m\u001b[0;34m\u001b[0m\u001b[0m\n\u001b[1;32m      4\u001b[0m             \u001b[0;32mfor\u001b[0m \u001b[0mline\u001b[0m \u001b[0;32min\u001b[0m \u001b[0mreadfiles\u001b[0m\u001b[0;34m:\u001b[0m\u001b[0;34m\u001b[0m\u001b[0;34m\u001b[0m\u001b[0m\n\u001b[1;32m      5\u001b[0m                 \u001b[0mwritefile\u001b[0m\u001b[0;34m.\u001b[0m\u001b[0mwrite\u001b[0m\u001b[0;34m(\u001b[0m\u001b[0mline\u001b[0m\u001b[0;34m)\u001b[0m\u001b[0;34m\u001b[0m\u001b[0;34m\u001b[0m\u001b[0m\n",
      "\u001b[0;31mFileNotFoundError\u001b[0m: [Errno 2] No such file or directory: 'Example1.txt'"
     ]
    }
   ],
   "source": [
    "#use the line read from a file to write another file\n",
    "with open (\"Example1.txt\",\"r\")as readfile:\n",
    "    with open (\"Example2.txt\",\"w\") as writefile:\n",
    "            for line in readfiles:\n",
    "                writefile.write(line)\n",
    "                "
   ]
  },
  {
   "cell_type": "markdown",
   "metadata": {},
   "source": [
    "- Loading data with pandas\n",
    "e.g\n",
    "import pandas as pd\n",
    "csv_path = 'file1.csv'\n",
    "df=pd.read_csv(csv_path)\n"
   ]
  },
  {
   "cell_type": "code",
   "execution_count": null,
   "metadata": {},
   "outputs": [],
   "source": []
  }
 ],
 "metadata": {
  "kernelspec": {
   "display_name": "Python 3",
   "language": "python",
   "name": "python3"
  },
  "language_info": {
   "codemirror_mode": {
    "name": "ipython",
    "version": 3
   },
   "file_extension": ".py",
   "mimetype": "text/x-python",
   "name": "python",
   "nbconvert_exporter": "python",
   "pygments_lexer": "ipython3",
   "version": "3.7.1"
  }
 },
 "nbformat": 4,
 "nbformat_minor": 2
}
